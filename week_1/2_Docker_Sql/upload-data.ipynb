{
 "cells": [
  {
   "cell_type": "code",
   "execution_count": 10,
   "id": "161e6f47",
   "metadata": {},
   "outputs": [],
   "source": [
    "import pandas as pd\n",
    "from sqlalchemy import create_engine\n",
    "from time import time"
   ]
  },
  {
   "cell_type": "code",
   "execution_count": 11,
   "id": "f89044fe",
   "metadata": {},
   "outputs": [],
   "source": [
    "engine = create_engine('postgresql://sang:12@localhost/ny_taxi')"
   ]
  },
  {
   "cell_type": "code",
   "execution_count": 12,
   "id": "ddeadf4b",
   "metadata": {},
   "outputs": [
    {
     "data": {
      "text/plain": [
       "<sqlalchemy.engine.base.Connection at 0x7f873bf1c430>"
      ]
     },
     "execution_count": 12,
     "metadata": {},
     "output_type": "execute_result"
    }
   ],
   "source": [
    "engine.connect()"
   ]
  },
  {
   "cell_type": "code",
   "execution_count": 13,
   "id": "af9b9912",
   "metadata": {},
   "outputs": [],
   "source": [
    "df_iter = pd.read_csv(\"yellow_tripdata_2021-01.csv\", iterator=True, chunksize=100000)"
   ]
  },
  {
   "cell_type": "code",
   "execution_count": 14,
   "id": "6201191a",
   "metadata": {},
   "outputs": [
    {
     "name": "stdout",
     "output_type": "stream",
     "text": [
      "inserted another chunk...., took 5.435 second\n",
      "inserted another chunk...., took 6.141 second\n",
      "inserted another chunk...., took 6.751 second\n",
      "inserted another chunk...., took 6.670 second\n",
      "inserted another chunk...., took 6.236 second\n",
      "inserted another chunk...., took 6.318 second\n",
      "inserted another chunk...., took 6.323 second\n",
      "inserted another chunk...., took 6.709 second\n",
      "inserted another chunk...., took 6.343 second\n",
      "inserted another chunk...., took 5.650 second\n",
      "inserted another chunk...., took 5.453 second\n",
      "inserted another chunk...., took 5.560 second\n",
      "inserted another chunk...., took 5.160 second\n",
      "inserted another chunk...., took 3.676 second\n",
      "Finished inserting all data.\n"
     ]
    }
   ],
   "source": [
    "while True:\n",
    "    try:\n",
    "        t_start = time()\n",
    "        df = next(df_iter)\n",
    "\n",
    "        df.tpep_pickup_datetime = pd.to_datetime(df.tpep_pickup_datetime)\n",
    "        df.tpep_dropoff_datetime = pd.to_datetime(df.tpep_dropoff_datetime)\n",
    "\n",
    "        df.to_sql(name='yellow_taxi_data', con=engine, if_exists='append')\n",
    "\n",
    "        t_end = time()\n",
    "        print(\"inserted another chunk...., took %.3f second\" %(t_end-t_start))\n",
    "\n",
    "    except StopIteration:\n",
    "        print(\"Finished inserting all data.\")\n",
    "        break"
   ]
  },
  {
   "cell_type": "code",
   "execution_count": null,
   "id": "e5c4dde6",
   "metadata": {},
   "outputs": [],
   "source": []
  }
 ],
 "metadata": {
  "kernelspec": {
   "display_name": "Python 3 (ipykernel)",
   "language": "python",
   "name": "python3"
  },
  "language_info": {
   "codemirror_mode": {
    "name": "ipython",
    "version": 3
   },
   "file_extension": ".py",
   "mimetype": "text/x-python",
   "name": "python",
   "nbconvert_exporter": "python",
   "pygments_lexer": "ipython3",
   "version": "3.9.7"
  }
 },
 "nbformat": 4,
 "nbformat_minor": 5
}
